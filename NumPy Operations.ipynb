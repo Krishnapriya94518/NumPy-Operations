{
 "cells": [
  {
   "cell_type": "code",
   "execution_count": 7,
   "id": "442dcb76-0186-4435-bda7-67b9cb85b772",
   "metadata": {},
   "outputs": [
    {
     "name": "stdout",
     "output_type": "stream",
     "text": [
      "sum of all elements of the array:  21\n",
      "sum of each column:  [5 7 9]\n",
      "sum of each row:  [ 6 15]\n"
     ]
    }
   ],
   "source": [
    "import numpy as np\n",
    "arr1=np.array([[1,2,3],[4,5,6]])\n",
    "total=np.sum(arr1)\n",
    "sum_column=np.sum(arr1,axis=0)\n",
    "sum_row=np.sum(arr1,axis=1)\n",
    "print(\"sum of all elements of the array: \", total)\n",
    "print(\"sum of each column: \",sum_column)\n",
    "print(\"sum of each row: \", sum_row)\n"
   ]
  },
  {
   "cell_type": "code",
   "execution_count": 13,
   "id": "876d9a00-750f-4ec4-8dc6-8fffcad996e9",
   "metadata": {},
   "outputs": [
    {
     "name": "stdout",
     "output_type": "stream",
     "text": [
      "numbers greater than 5:  [6 7 8 9]\n",
      "numbers less than or equal to 5:  [1 2 3 4 5]\n"
     ]
    }
   ],
   "source": [
    "arr2=np.array([1,2,3,4,5,6,7,8,9])\n",
    "number=5\n",
    "greater=arr2[arr2>number]\n",
    "less=arr2[arr2<=number]\n",
    "print(\"numbers greater than 5: \", greater)\n",
    "print(\"numbers less than or equal to 5: \", less)"
   ]
  },
  {
   "cell_type": "code",
   "execution_count": 2,
   "id": "8092d40f-2add-44a0-bfd4-b7e5b175dadd",
   "metadata": {},
   "outputs": [
    {
     "name": "stdout",
     "output_type": "stream",
     "text": [
      "arrays concatenated vertically:  [[ 1  2  3]\n",
      " [ 4  5  6]\n",
      " [ 7  8  9]\n",
      " [11 12 13]\n",
      " [14 15 16]\n",
      " [17 18 19]\n",
      " [21 22 23]\n",
      " [24 25 26]\n",
      " [27 28 29]]\n",
      "arrays concatenated horizontally:  [[ 1  2  3 11 12 13 21 22 23]\n",
      " [ 4  5  6 14 15 16 24 25 26]\n",
      " [ 7  8  9 17 18 19 27 28 29]]\n"
     ]
    }
   ],
   "source": [
    "import numpy as np\n",
    "arr3=np.array([[1,2,3],[4,5,6],[7,8,9]])\n",
    "arr4=np.array([[11,12,13],[14,15,16],[17,18,19]])\n",
    "arr5=np.array([[21,22,23],[24,25,26],[27,28,29]])\n",
    "arr6=np.concatenate((arr3,arr4,arr5),axis=0)\n",
    "arr7=np.concatenate((arr3,arr4,arr5),axis=1)\n",
    "print(\"arrays concatenated vertically: \", arr6)\n",
    "print(\"arrays concatenated horizontally: \", arr7)"
   ]
  },
  {
   "cell_type": "code",
   "execution_count": null,
   "id": "b3b36b5e-c854-4406-8aab-47a87353ebc1",
   "metadata": {},
   "outputs": [],
   "source": []
  }
 ],
 "metadata": {
  "kernelspec": {
   "display_name": "Python 3 (ipykernel)",
   "language": "python",
   "name": "python3"
  },
  "language_info": {
   "codemirror_mode": {
    "name": "ipython",
    "version": 3
   },
   "file_extension": ".py",
   "mimetype": "text/x-python",
   "name": "python",
   "nbconvert_exporter": "python",
   "pygments_lexer": "ipython3",
   "version": "3.12.7"
  }
 },
 "nbformat": 4,
 "nbformat_minor": 5
}
